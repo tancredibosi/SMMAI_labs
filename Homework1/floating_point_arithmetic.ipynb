{
 "cells": [
  {
   "cell_type": "markdown",
   "metadata": {},
   "source": [
    "FLOATING POINT ARITHMETIC 1"
   ]
  },
  {
   "cell_type": "code",
   "execution_count": 2,
   "metadata": {},
   "outputs": [],
   "source": [
    "import numpy as np"
   ]
  },
  {
   "cell_type": "code",
   "execution_count": 47,
   "metadata": {},
   "outputs": [
    {
     "name": "stdout",
     "output_type": "stream",
     "text": [
      "1.1920929e-07\n"
     ]
    }
   ],
   "source": [
    "# Compute the Machine epsilon such that fl(1 + eps) > 1.\n",
    "machine_epsilon = np.float32(1)\n",
    "while np.float32(1) + machine_epsilon != np.float32(1):\n",
    "    last_machine_epsilon = machine_epsilon\n",
    "    machine_epsilon = np.float32(machine_epsilon) / np.float32(2)\n",
    "\n",
    "print(last_machine_epsilon)"
   ]
  },
  {
   "cell_type": "code",
   "execution_count": 3,
   "metadata": {},
   "outputs": [
    {
     "name": "stdout",
     "output_type": "stream",
     "text": [
      "Machine epsilon double: 1.1920928955078125e-07\n",
      "Machine epsilon double: 2.220446049250313e-16\n"
     ]
    }
   ],
   "source": [
    "# We can define a function that computes the Machine epsilon for the\n",
    "# wanted arithmetic\n",
    "def machine_epsilon_computation(f=float):\n",
    "    machine_epsilon = f(1)\n",
    "    while f(1) + machine_epsilon != f(1):\n",
    "        last_machine_epsilon = machine_epsilon\n",
    "        machine_epsilon = f(machine_epsilon) / f(2)\n",
    "    return last_machine_epsilon\n",
    "\n",
    "print(f'Machine epsilon double: {machine_epsilon_computation(np.float32)}')\n",
    "print(f'Machine epsilon double: {machine_epsilon_computation(np.float64)}')\n",
    "    "
   ]
  },
  {
   "cell_type": "markdown",
   "metadata": {},
   "source": [
    "FLOATING POINT ARITHMETIC 2"
   ]
  },
  {
   "cell_type": "code",
   "execution_count": 18,
   "metadata": {},
   "outputs": [
    {
     "name": "stdout",
     "output_type": "stream",
     "text": [
      "0.12453936835904278\n",
      "0.01346799903751661\n",
      "0.0013578962234515046\n",
      "0.000135901634119584\n",
      "1.359126674760347e-05\n",
      "1.359363291708604e-06\n",
      "1.3432696333026684e-07\n",
      "3.011168736577474e-08\n",
      "-2.2355251516614771e-07\n",
      "-2.2477574246337895e-07\n"
     ]
    }
   ],
   "source": [
    "# We want to see the development of a_n during n iteration, it goes approximately \n",
    "# to euler number\n",
    "ns = [10, 100, 1000, 10000, 100000, 1000000, 10000000, 100000000, 1000000000, 10000000000]\n",
    "for n in ns:\n",
    "    a_n = (1 + (1/n))**n\n",
    "    print(np.e - a_n)\n",
    "\n",
    "\n",
    "# The sequence reaches the best approximation at 10^8 iterations"
   ]
  },
  {
   "cell_type": "markdown",
   "metadata": {},
   "source": [
    "FLOATING POINT ARITHMETIC 3"
   ]
  },
  {
   "cell_type": "code",
   "execution_count": 9,
   "metadata": {},
   "outputs": [
    {
     "name": "stdout",
     "output_type": "stream",
     "text": [
      "[5. 2.]\n",
      "Rank(A) = 2\n",
      "[5. 0.]\n",
      "Rank(B) = 1\n",
      "\n",
      "\n"
     ]
    }
   ],
   "source": [
    "A = np.array([[4, 2], [1, 3]])\n",
    "B = np.array([[4, 2], [2, 1]])\n",
    "\n",
    "eig_A = np.linalg.eigvals(A)\n",
    "rank_A = np.linalg.matrix_rank(A)\n",
    "print(eig_A)\n",
    "print(f'Rank(A) = {rank_A}')\n",
    "eig_B = np.linalg.eigvals(B)\n",
    "rank_B = np.linalg.matrix_rank(B)\n",
    "print(eig_B)\n",
    "print(f'Rank(B) = {rank_B}')\n",
    "print(\"\\n\")\n",
    "\n",
    "# We can see that A is a full-rank matrix and B is not\n",
    "# The fact that the rank of a matrix is not full is correlated with the fact\n",
    "# that the matrix has one or more eigenvalues that are 0.\n",
    "# The rank of a matrix is computed as its dimension - the number of\n",
    "# eigenvalues that are 0"
   ]
  },
  {
   "cell_type": "code",
   "execution_count": 36,
   "metadata": {},
   "outputs": [
    {
     "name": "stdout",
     "output_type": "stream",
     "text": [
      "[1. 1. 0.]\n",
      "Rank(C) = 2\n"
     ]
    }
   ],
   "source": [
    "# Other examples\n",
    "C = np.array([[1, 0, 0], [0, 1, 0], [0, 0, 0]])\n",
    "eig_C = np.linalg.eigvals(C)\n",
    "rank_C = np.linalg.matrix_rank(C)\n",
    "print(eig_C)\n",
    "print(f'Rank(C) = {rank_C}')"
   ]
  }
 ],
 "metadata": {
  "kernelspec": {
   "display_name": "Python 3",
   "language": "python",
   "name": "python3"
  },
  "language_info": {
   "codemirror_mode": {
    "name": "ipython",
    "version": 3
   },
   "file_extension": ".py",
   "mimetype": "text/x-python",
   "name": "python",
   "nbconvert_exporter": "python",
   "pygments_lexer": "ipython3",
   "version": "3.11.2"
  },
  "orig_nbformat": 4
 },
 "nbformat": 4,
 "nbformat_minor": 2
}
