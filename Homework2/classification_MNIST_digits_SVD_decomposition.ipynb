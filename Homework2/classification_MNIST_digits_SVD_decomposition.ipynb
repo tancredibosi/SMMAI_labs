{
 "cells": [
  {
   "cell_type": "markdown",
   "metadata": {},
   "source": [
    "Classification of MNIST Digits with SVD Decomposition"
   ]
  },
  {
   "cell_type": "markdown",
   "metadata": {},
   "source": [
    "1)"
   ]
  },
  {
   "cell_type": "code",
   "execution_count": 2,
   "metadata": {},
   "outputs": [],
   "source": [
    "import numpy as np\n",
    "import pandas as pd\n",
    "import matplotlib.pyplot as plt\n",
    "import scipy.io"
   ]
  },
  {
   "cell_type": "code",
   "execution_count": 3,
   "metadata": {},
   "outputs": [
    {
     "name": "stdout",
     "output_type": "stream",
     "text": [
      "The shape of X is (256, 1707)\n",
      "The shape of y is (1, 1707)\n"
     ]
    }
   ],
   "source": [
    "data = scipy.io.loadmat('MNIST.mat')\n",
    "X = data['X']\n",
    "I = data['I']\n",
    "print('The shape of X is', X.shape)\n",
    "print('The shape of y is', I.shape)"
   ]
  },
  {
   "cell_type": "code",
   "execution_count": 4,
   "metadata": {},
   "outputs": [
    {
     "data": {
      "image/png": "[encoded data removed]",
      "text/plain": [
       "<Figure size 640x480 with 1 Axes>"
      ]
     },
     "metadata": {},
     "output_type": "display_data"
    },
    {
     "data": {
      "image/png": "[encoded data removed]",
      "text/plain": [
       "<Figure size 640x480 with 1 Axes>"
      ]
     },
     "metadata": {},
     "output_type": "display_data"
    }
   ],
   "source": [
    "# Visualize some datapoints\n",
    "image0 = X[:, 0]\n",
    "image0 = np.reshape(image0, (16,16))\n",
    "plt.imshow(image0, cmap='gray')\n",
    "plt.show()\n",
    "\n",
    "image1 = X[:, 1]\n",
    "image1 = np.reshape(image1, (16,16))\n",
    "plt.imshow(image1, cmap='gray')\n",
    "plt.show()"
   ]
  },
  {
   "cell_type": "markdown",
   "metadata": {},
   "source": [
    "## Digits 3 and 4"
   ]
  },
  {
   "cell_type": "code",
   "execution_count": 5,
   "metadata": {},
   "outputs": [
    {
     "name": "stdout",
     "output_type": "stream",
     "text": [
      "(1, 131) (1, 122) (256, 131) (256, 122)\n",
      "(256, 253) (1, 253)\n"
     ]
    }
   ],
   "source": [
    "num1 = 3\n",
    "num2 = 4\n",
    "\n",
    "# Extract from X the columns that corresponds to num1 or num2\n",
    "idx = (I[0, :] == num1) | (I[0, :] == num2)\n",
    "Yn12 = I[:, idx]\n",
    "Xn12 = X[:, idx]\n",
    "N12 = Xn12.shape[1]\n",
    "Ntrain = int(N12/3 * 2)\n",
    "\n",
    "idxC1 = Yn12[0, :] == num1\n",
    "Y1 = Yn12[:, idxC1]\n",
    "X1 = Xn12[:, idxC1]\n",
    "idxC2 = Yn12[0, :] == num2\n",
    "Y2 = Yn12[:, idxC2]\n",
    "X2 = Xn12[:, idxC2]\n",
    "\n",
    "print(Y1.shape, Y2.shape, X1.shape, X2.shape)\n",
    "print(Xn12.shape, Yn12.shape)"
   ]
  },
  {
   "cell_type": "code",
   "execution_count": 6,
   "metadata": {},
   "outputs": [],
   "source": [
    "def train_test_split(X,Y,N_train):\n",
    "    d, N = X.shape\n",
    "    #define the array of indices\n",
    "    idx = np.arange(0,N)\n",
    "    \n",
    "    \n",
    "    #shuffle the indices\n",
    "    np.random.shuffle(idx)\n",
    "    \n",
    "    #extract train and test indices\n",
    "    train_idx = idx[:N_train]\n",
    "    test_idx = idx[N_train:]\n",
    "    \n",
    "    #extract data\n",
    "    X_train = X[:, train_idx]\n",
    "    Y_train = Y[:, train_idx]\n",
    "    \n",
    "    X_test = X[:, test_idx]\n",
    "    Y_test = Y[:, test_idx]\n",
    "\n",
    "    return (X_train, Y_train), (X_test, Y_test)"
   ]
  },
  {
   "cell_type": "code",
   "execution_count": 7,
   "metadata": {},
   "outputs": [
    {
     "name": "stdout",
     "output_type": "stream",
     "text": [
      "(256, 168) (256, 85)\n"
     ]
    }
   ],
   "source": [
    "(X_train, Y_train), (X_test, Y_test) = train_test_split(Xn12, Yn12, Ntrain)\n",
    "\n",
    "print(X_train.shape, X_test.shape)"
   ]
  },
  {
   "cell_type": "code",
   "execution_count": 8,
   "metadata": {},
   "outputs": [],
   "source": [
    "idxC1_train = (Y_train[0, :] == num1)\n",
    "idxC2_train = (Y_train[0, :] == num2)\n",
    "X1_train = X_train[:, idxC1_train]\n",
    "X2_train = X_train[:, idxC2_train]"
   ]
  },
  {
   "cell_type": "code",
   "execution_count": 9,
   "metadata": {},
   "outputs": [],
   "source": [
    "U1, s1, VT1 = np.linalg.svd(X1_train, full_matrices=False)\n",
    "U2, s2, VT2 = np.linalg.svd(X2_train, full_matrices=False)"
   ]
  },
  {
   "cell_type": "code",
   "execution_count": 10,
   "metadata": {},
   "outputs": [
    {
     "name": "stdout",
     "output_type": "stream",
     "text": [
      "True number: [4]\n"
     ]
    }
   ],
   "source": [
    "m, n = Y_test.shape\n",
    "index = np.random.randint(0, n)\n",
    "y = X_test[:, index]\n",
    "print('True number:', Y_test[:, index])\n",
    "y1_p = U1 @ (U1.T @ y)\n",
    "y2_p = U2 @ (U2.T @ y)"
   ]
  },
  {
   "cell_type": "code",
   "execution_count": 11,
   "metadata": {},
   "outputs": [
    {
     "name": "stdout",
     "output_type": "stream",
     "text": [
      "y has been classified as a 4 (C2)\n"
     ]
    }
   ],
   "source": [
    "d1 = np.linalg.norm(y - y1_p, 2)\n",
    "d2 = np.linalg.norm(y - y2_p, 2)\n",
    "\n",
    "if d1 < d2:\n",
    "    print('y has been classified as a', num1, '(C1)')\n",
    "else:\n",
    "    print('y has been classified as a', num2, '(C2)')"
   ]
  },
  {
   "cell_type": "code",
   "execution_count": 12,
   "metadata": {},
   "outputs": [
    {
     "name": "stdout",
     "output_type": "stream",
     "text": [
      "##### TRAIN SET #####\n",
      "Number of elements: 168\n",
      "Number of misclassified elements: 0\n",
      "Accuracy: 1.0\n",
      "\n",
      "\n",
      "##### TEST SET #####\n",
      "Number of elements: 85\n",
      "Number of misclassified elements: 1\n",
      "Accuracy: 0.9882352941176471\n"
     ]
    }
   ],
   "source": [
    "wrong = count = 0\n",
    "\n",
    "print('##### TRAIN SET #####')\n",
    "\n",
    "for i in range(X_train.shape[1]):\n",
    "    y = X_train[:, i]\n",
    "    y1_p = U1 @ (U1.T @ y)\n",
    "    y2_p = U2 @ (U2.T @ y)\n",
    "    d1 = np.linalg.norm(y - y1_p, 2)\n",
    "    d2 = np.linalg.norm(y - y2_p, 2)\n",
    "    if (Y_train[:, i] == num1) | (Y_train[:, i] == num2):\n",
    "        count += 1\n",
    "        if d1 < d2:\n",
    "            if (Y_train[:, i] != num1):\n",
    "                wrong += 1\n",
    "        else:\n",
    "            if (Y_train[:, i] != num2):\n",
    "                wrong += 1\n",
    "\n",
    "print(f'Number of elements: {count}')\n",
    "print(f'Number of misclassified elements: {wrong}')\n",
    "print(f'Accuracy: {1 - (wrong/count)}')\n",
    "\n",
    "print('\\n')\n",
    "\n",
    "wrong = count = 0\n",
    "\n",
    "print('##### TEST SET #####')\n",
    "\n",
    "for i in range(X_test.shape[1]):\n",
    "    y = X_test[:, i]\n",
    "    y1_p = U1 @ (U1.T @ y)\n",
    "    y2_p = U2 @ (U2.T @ y)\n",
    "    d1 = np.linalg.norm(y - y1_p, 2)\n",
    "    d2 = np.linalg.norm(y - y2_p, 2)\n",
    "    if (Y_test[:, i] == num1) | (Y_test[:, i] == num2):\n",
    "        count += 1\n",
    "        if d1 < d2:\n",
    "            if (Y_test[:, i] != num1):\n",
    "                wrong += 1\n",
    "        else:\n",
    "            if (Y_test[:, i] != num2):\n",
    "                wrong += 1\n",
    "\n",
    "print(f'Number of elements: {count}')\n",
    "print(f'Number of misclassified elements: {wrong}')\n",
    "print(f'Accuracy: {1 - (wrong/count)}')"
   ]
  },
  {
   "cell_type": "markdown",
   "metadata": {},
   "source": [
    "## Digits 0 and 8"
   ]
  },
  {
   "cell_type": "code",
   "execution_count": 17,
   "metadata": {},
   "outputs": [
    {
     "name": "stdout",
     "output_type": "stream",
     "text": [
      "##### TRAIN SET #####\n",
      "Number of elements: 308\n",
      "Number of misclassified elements: 0\n",
      "Accuracy: 1.0\n",
      "\n",
      "\n",
      "##### TEST SET #####\n",
      "Number of elements: 155\n",
      "Number of misclassified elements: 51\n",
      "Accuracy: 0.6709677419354838\n"
     ]
    }
   ],
   "source": [
    "X = data['X']\n",
    "I = data['I']\n",
    "\n",
    "num1 = 0\n",
    "num2 = 8\n",
    "\n",
    "# Extract from X the columns that corresponds to num1 or num2\n",
    "idx = (I[0, :] == num1) | (I[0, :] == num2)\n",
    "Yn12 = I[:, idx]\n",
    "Xn12 = X[:, idx]\n",
    "N12 = Xn12.shape[1]\n",
    "Ntrain = int(N12/3 * 2)\n",
    "\n",
    "idxC1 = Yn12[0, :] == num1\n",
    "Y1 = Yn12[:, idxC1]\n",
    "X1 = Xn12[:, idxC1]\n",
    "idxC2 = Yn12[0, :] == num2\n",
    "Y2 = Yn12[:, idxC2]\n",
    "X2 = Xn12[:, idxC2]\n",
    "\n",
    "(X_train, Y_train), (X_test, Y_test) = train_test_split(Xn12, Yn12, Ntrain)\n",
    "idxC1_train = (Y_train[0, :] == num1)\n",
    "idxC2_train = (Y_train[0, :] == num2)\n",
    "X1_train = X_train[:, idxC1_train]\n",
    "X2_train = X_train[:, idxC2_train]\n",
    "\n",
    "U1, s1, VT1 = np.linalg.svd(X1_train, full_matrices=False)\n",
    "U2, s2, VT2 = np.linalg.svd(X2_train, full_matrices=False)\n",
    "\n",
    "wrong = count = 0\n",
    "\n",
    "print('##### TRAIN SET #####')\n",
    "\n",
    "for i in range(X_train.shape[1]):\n",
    "    y = X_train[:, i]\n",
    "    y1_p = U1 @ (U1.T @ y)\n",
    "    y2_p = U2 @ (U2.T @ y)\n",
    "    d1 = np.linalg.norm(y - y1_p, 2)\n",
    "    d2 = np.linalg.norm(y - y2_p, 2)\n",
    "    if (Y_train[:, i] == num1) | (Y_train[:, i] == num2):\n",
    "        count += 1\n",
    "        if d1 < d2:\n",
    "            if (Y_train[:, i] != num1):\n",
    "                wrong += 1\n",
    "        else:\n",
    "            if (Y_train[:, i] != num2):\n",
    "                wrong += 1\n",
    "\n",
    "print(f'Number of elements: {count}')\n",
    "print(f'Number of misclassified elements: {wrong}')\n",
    "print(f'Accuracy: {1 - (wrong/count)}')\n",
    "\n",
    "print('\\n')\n",
    "\n",
    "wrong = count = 0\n",
    "\n",
    "print('##### TEST SET #####')\n",
    "\n",
    "for i in range(X_test.shape[1]):\n",
    "    y = X_test[:, i]\n",
    "    y1_p = U1 @ (U1.T @ y)\n",
    "    y2_p = U2 @ (U2.T @ y)\n",
    "    d1 = np.linalg.norm(y - y1_p, 2)\n",
    "    d2 = np.linalg.norm(y - y2_p, 2)\n",
    "    if (Y_test[:, i] == num1) | (Y_test[:, i] == num2):\n",
    "        count += 1\n",
    "        if d1 < d2:\n",
    "            if (Y_test[:, i] != num1):\n",
    "                wrong += 1\n",
    "        else:\n",
    "            if (Y_test[:, i] != num2):\n",
    "                wrong += 1\n",
    "\n",
    "print(f'Number of elements: {count}')\n",
    "print(f'Number of misclassified elements: {wrong}')\n",
    "print(f'Accuracy: {1 - (wrong/count)}')"
   ]
  },
  {
   "cell_type": "markdown",
   "metadata": {},
   "source": [
    "2)"
   ]
  },
  {
   "cell_type": "markdown",
   "metadata": {},
   "source": [
    "## Digits 1, 3 and 4"
   ]
  },
  {
   "cell_type": "code",
   "execution_count": 14,
   "metadata": {},
   "outputs": [
    {
     "name": "stdout",
     "output_type": "stream",
     "text": [
      "(1, 252) (1, 131) (1, 122) (256, 252) (256, 131) (256, 122)\n",
      "True number: [3]\n",
      "y has been classified as a 3 (C2)\n"
     ]
    }
   ],
   "source": [
    "num1 = 1\n",
    "num2 = 3\n",
    "num3 = 4\n",
    "\n",
    "idx = (I[0, :] == num1) | (I[0, :] == num2) | (I[0, :] == num3)\n",
    "Yn123 = I[:, idx]\n",
    "Xn123 = X[:, idx]\n",
    "N123 = Xn123.shape[1]\n",
    "Ntrain = int(N123/3 * 2)\n",
    "\n",
    "idxC1 = Yn123[0, :] == num1\n",
    "Y1 = Yn123[:, idxC1]\n",
    "X1 = Xn123[:, idxC1]\n",
    "idxC2 = Yn123[0, :] == num2\n",
    "Y2 = Yn123[:, idxC2]\n",
    "X2 = Xn123[:, idxC2]\n",
    "idxC3 = Yn123[0, :] == num3\n",
    "Y3 = Yn123[:, idxC3]\n",
    "X3 = Xn123[:, idxC3]\n",
    "\n",
    "print(Y1.shape, Y2.shape, Y3.shape, X1.shape, X2.shape, X3.shape)\n",
    "\n",
    "(X_train, Y_train), (X_test, Y_test) = train_test_split(Xn123, Yn123, Ntrain)\n",
    "\n",
    "idxC1_train = (Y_train[0, :] == num1)\n",
    "idxC2_train = (Y_train[0, :] == num2)\n",
    "idxC3_train = (Y_train[0, :] == num3)\n",
    "X1_train = X_train[:, idxC1_train]\n",
    "X2_train = X_train[:, idxC2_train]\n",
    "X3_train = X_train[:, idxC3_train]\n",
    "\n",
    "U1, s1, VT1 = np.linalg.svd(X1_train, full_matrices=False)\n",
    "U2, s2, VT2 = np.linalg.svd(X2_train, full_matrices=False)\n",
    "U3, s3, VT3 = np.linalg.svd(X3_train, full_matrices=False)\n",
    "\n",
    "m, n = Y_test.shape\n",
    "index = np.random.randint(0, n)\n",
    "y = X_test[:, index]\n",
    "print('True number:', Y_test[:, index])\n",
    "y1_p = U1 @ (U1.T @ y)\n",
    "y2_p = U2 @ (U2.T @ y)\n",
    "y3_p = U3 @ (U3.T @ y)\n",
    "\n",
    "d1 = np.linalg.norm(y - y1_p, 2)\n",
    "d2 = np.linalg.norm(y - y2_p, 2)\n",
    "d3 = np.linalg.norm(y - y3_p, 2)\n",
    "\n",
    "if (d1 < d2) and (d1 < d3):\n",
    "    print('y has been classified as a', num1, '(C1)')\n",
    "elif (d2 < d1) and (d2 < d3):\n",
    "    print('y has been classified as a', num2, '(C2)')\n",
    "else:\n",
    "    print('y has been classified as a', num3, '(C3)')"
   ]
  },
  {
   "cell_type": "code",
   "execution_count": 15,
   "metadata": {},
   "outputs": [
    {
     "name": "stdout",
     "output_type": "stream",
     "text": [
      "##### TRAIN SET #####\n",
      "Number of elements: 336\n",
      "Number of misclassified elements: 0\n",
      "Accuracy: 1.0\n",
      "\n",
      "\n",
      "##### TEST SET #####\n",
      "Number of elements: 169\n",
      "Number of misclassified elements: 12\n",
      "Accuracy: 0.9289940828402367\n"
     ]
    }
   ],
   "source": [
    "wrong = count = 0\n",
    "\n",
    "print('##### TRAIN SET #####')\n",
    "\n",
    "for i in range(X_train.shape[1]):\n",
    "    y = X_train[:, i]\n",
    "    y1_p = U1 @ (U1.T @ y)\n",
    "    y2_p = U2 @ (U2.T @ y)\n",
    "    y3_p = U3 @ (U3.T @ y)\n",
    "    d1 = np.linalg.norm(y - y1_p, 2)\n",
    "    d2 = np.linalg.norm(y - y2_p, 2)\n",
    "    d3 = np.linalg.norm(y - y3_p, 2)\n",
    "    if (Y_train[:, i] == num1) | (Y_train[:, i] == num2) | (Y_train[:, i] == num3):\n",
    "        count += 1\n",
    "        if (d1 < d2) and (d1 < d3):\n",
    "            if (Y_train[:, i] != num1):\n",
    "                wrong += 1\n",
    "        elif (d2 < d1) and (d2 < d3):\n",
    "            if (Y_train[:, i] != num2):\n",
    "                wrong += 1\n",
    "        else:\n",
    "            if (Y_train[:, i] != num3):\n",
    "                wrong += 1\n",
    "\n",
    "print(f'Number of elements: {count}')\n",
    "print(f'Number of misclassified elements: {wrong}')\n",
    "print(f'Accuracy: {1 - (wrong/count)}')\n",
    "\n",
    "print('\\n')\n",
    "\n",
    "print('##### TEST SET #####')\n",
    "\n",
    "wrong = count = 0\n",
    "\n",
    "for i in range(X_test.shape[1]):\n",
    "    y = X_test[:, i]\n",
    "    y1_p = U1 @ (U1.T @ y)\n",
    "    y2_p = U2 @ (U2.T @ y)\n",
    "    y3_p = U3 @ (U3.T @ y)\n",
    "    d1 = np.linalg.norm(y - y1_p, 2)\n",
    "    d2 = np.linalg.norm(y - y2_p, 2)\n",
    "    d3 = np.linalg.norm(y - y3_p, 2)\n",
    "    if (Y_test[:, i] == num1) | (Y_test[:, i] == num2) | (Y_test[:, i] == num3):\n",
    "        count += 1\n",
    "        if (d1 < d2) and (d1 < d3):\n",
    "            if (Y_test[:, i] != num1):\n",
    "                wrong += 1\n",
    "        elif (d2 < d1) and (d2 < d3):\n",
    "            if (Y_test[:, i] != num2):\n",
    "                wrong += 1\n",
    "        else:\n",
    "            if (Y_test[:, i] != num3):\n",
    "                wrong += 1\n",
    "\n",
    "print(f'Number of elements: {count}')\n",
    "print(f'Number of misclassified elements: {wrong}')\n",
    "print(f'Accuracy: {1 - (wrong/count)}')"
   ]
  },
  {
   "cell_type": "markdown",
   "metadata": {},
   "source": [
    "## Digits 0, 8 and 3"
   ]
  },
  {
   "cell_type": "code",
   "execution_count": 16,
   "metadata": {},
   "outputs": [
    {
     "name": "stdout",
     "output_type": "stream",
     "text": [
      "##### TRAIN SET #####\n",
      "Number of elements: 396\n",
      "Number of misclassified elements: 0\n",
      "Accuracy: 1.0\n",
      "\n",
      "\n",
      "##### TEST SET #####\n",
      "Number of elements: 198\n",
      "Number of misclassified elements: 67\n",
      "Accuracy: 0.6616161616161615\n"
     ]
    }
   ],
   "source": [
    "num1 = 0\n",
    "num2 = 8\n",
    "num3 = 3\n",
    "\n",
    "idx = (I[0, :] == num1) | (I[0, :] == num2) | (I[0, :] == num3)\n",
    "Yn123 = I[:, idx]\n",
    "Xn123 = X[:, idx]\n",
    "N123 = Xn123.shape[1]\n",
    "Ntrain = int(N123/3 * 2)\n",
    "\n",
    "idxC1 = Yn123[0, :] == num1\n",
    "Y1 = Yn123[:, idxC1]\n",
    "X1 = Xn123[:, idxC1]\n",
    "idxC2 = Yn123[0, :] == num2\n",
    "Y2 = Yn123[:, idxC2]\n",
    "X2 = Xn123[:, idxC2]\n",
    "idxC3 = Yn123[0, :] == num3\n",
    "Y3 = Yn123[:, idxC3]\n",
    "X3 = Xn123[:, idxC3]\n",
    "\n",
    "(X_train, Y_train), (X_test, Y_test) = train_test_split(Xn123, Yn123, Ntrain)\n",
    "\n",
    "idxC1_train = (Y_train[0, :] == num1)\n",
    "idxC2_train = (Y_train[0, :] == num2)\n",
    "idxC3_train = (Y_train[0, :] == num3)\n",
    "X1_train = X_train[:, idxC1_train]\n",
    "X2_train = X_train[:, idxC2_train]\n",
    "X3_train = X_train[:, idxC3_train]\n",
    "\n",
    "U1, s1, VT1 = np.linalg.svd(X1_train, full_matrices=False)\n",
    "U2, s2, VT2 = np.linalg.svd(X2_train, full_matrices=False)\n",
    "U3, s3, VT3 = np.linalg.svd(X3_train, full_matrices=False)\n",
    "    \n",
    "wrong = count = 0\n",
    "\n",
    "print('##### TRAIN SET #####')\n",
    "\n",
    "for i in range(X_train.shape[1]):\n",
    "    y = X_train[:, i]\n",
    "    y1_p = U1 @ (U1.T @ y)\n",
    "    y2_p = U2 @ (U2.T @ y)\n",
    "    y3_p = U3 @ (U3.T @ y)\n",
    "    d1 = np.linalg.norm(y - y1_p, 2)\n",
    "    d2 = np.linalg.norm(y - y2_p, 2)\n",
    "    d3 = np.linalg.norm(y - y3_p, 2)\n",
    "    if (Y_train[:, i] == num1) | (Y_train[:, i] == num2) | (Y_train[:, i] == num3):\n",
    "        count += 1\n",
    "        if (d1 < d2) and (d1 < d3):\n",
    "            if (Y_train[:, i] != num1):\n",
    "                wrong += 1\n",
    "        elif (d2 < d1) and (d2 < d3):\n",
    "            if (Y_train[:, i] != num2):\n",
    "                wrong += 1\n",
    "        else:\n",
    "            if (Y_train[:, i] != num3):\n",
    "                wrong += 1\n",
    "\n",
    "print(f'Number of elements: {count}')\n",
    "print(f'Number of misclassified elements: {wrong}')\n",
    "print(f'Accuracy: {1 - (wrong/count)}')\n",
    "\n",
    "print('\\n')\n",
    "\n",
    "print('##### TEST SET #####')\n",
    "\n",
    "wrong = count = 0\n",
    "\n",
    "for i in range(X_test.shape[1]):\n",
    "    y = X_test[:, i]\n",
    "    y1_p = U1 @ (U1.T @ y)\n",
    "    y2_p = U2 @ (U2.T @ y)\n",
    "    y3_p = U3 @ (U3.T @ y)\n",
    "    d1 = np.linalg.norm(y - y1_p, 2)\n",
    "    d2 = np.linalg.norm(y - y2_p, 2)\n",
    "    d3 = np.linalg.norm(y - y3_p, 2)\n",
    "    if (Y_test[:, i] == num1) | (Y_test[:, i] == num2) | (Y_test[:, i] == num3):\n",
    "        count += 1\n",
    "        if (d1 < d2) and (d1 < d3):\n",
    "            if (Y_test[:, i] != num1):\n",
    "                wrong += 1\n",
    "        elif (d2 < d1) and (d2 < d3):\n",
    "            if (Y_test[:, i] != num2):\n",
    "                wrong += 1\n",
    "        else:\n",
    "            if (Y_test[:, i] != num3):\n",
    "                wrong += 1\n",
    "\n",
    "print(f'Number of elements: {count}')\n",
    "print(f'Number of misclassified elements: {wrong}')\n",
    "print(f'Accuracy: {1 - (wrong/count)}')"
   ]
  }
 ],
 "metadata": {
  "kernelspec": {
   "display_name": "Python 3",
   "language": "python",
   "name": "python3"
  },
  "language_info": {
   "codemirror_mode": {
    "name": "ipython",
    "version": 3
   },
   "file_extension": ".py",
   "mimetype": "text/x-python",
   "name": "python",
   "nbconvert_exporter": "python",
   "pygments_lexer": "ipython3",
   "version": "3.11.2"
  },
  "orig_nbformat": 4
 },
 "nbformat": 4,
 "nbformat_minor": 2
}
